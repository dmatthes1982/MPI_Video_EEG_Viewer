{
 "cells": [
  {
   "cell_type": "markdown",
   "metadata": {},
   "source": [
    "# How to use Matplotlib with PyQT"
   ]
  },
  {
   "cell_type": "code",
   "execution_count": 2,
   "metadata": {},
   "outputs": [
    {
     "name": "stderr",
     "output_type": "stream",
     "text": [
      "/home/raid1/gerstenberger/anaconda3/lib/python3.6/site-packages/matplotlib/cbook/deprecation.py:107: MatplotlibDeprecationWarning: Adding an axes using the same arguments as a previous axes currently reuses the earlier instance.  In a future version, a new instance will always be created and returned.  Meanwhile, this warning can be suppressed, and the future behavior ensured, by passing a unique label to each axes instance.\n",
      "  warnings.warn(message, mplDeprecation, stacklevel=1)\n"
     ]
    },
    {
     "ename": "SystemExit",
     "evalue": "0",
     "output_type": "error",
     "traceback": [
      "An exception has occurred, use %tb to see the full traceback.\n",
      "\u001b[0;31mSystemExit\u001b[0m\u001b[0;31m:\u001b[0m 0\n"
     ]
    },
    {
     "name": "stderr",
     "output_type": "stream",
     "text": [
      "/home/raid1/gerstenberger/anaconda3/lib/python3.6/site-packages/IPython/core/interactiveshell.py:2971: UserWarning: To exit: use 'exit', 'quit', or Ctrl-D.\n",
      "  warn(\"To exit: use 'exit', 'quit', or Ctrl-D.\", stacklevel=1)\n"
     ]
    }
   ],
   "source": [
    "import sys\n",
    " \n",
    "from PyQt5.QtWidgets import QApplication, QMainWindow, QMenu, QVBoxLayout, QSizePolicy, QMessageBox, QWidget, QPushButton\n",
    "from PyQt5.QtGui import QIcon\n",
    " \n",
    " \n",
    "from matplotlib.backends.backend_qt5agg import FigureCanvasQTAgg as FigureCanvas\n",
    "from matplotlib.figure import Figure\n",
    "import matplotlib.pyplot as plt\n",
    " \n",
    "import random\n",
    " \n",
    "class App(QMainWindow):\n",
    " \n",
    "    def __init__(self):\n",
    "        super().__init__()\n",
    "        self.left = 10\n",
    "        self.top = 10\n",
    "        self.title = 'PyQt5 matplotlib example - pythonspot.com'\n",
    "        self.width = 640\n",
    "        self.height = 400\n",
    "        self.initUI()\n",
    " \n",
    "    def initUI(self):\n",
    "        self.setWindowTitle(self.title)\n",
    "        self.setGeometry(self.left, self.top, self.width, self.height)\n",
    " \n",
    "        m = PlotCanvas(self, width=5, height=4)\n",
    "        m.move(0,0)\n",
    " \n",
    "        button = QPushButton('PyQt5 button', self)\n",
    "        button.setToolTip('This s an example button')\n",
    "        button.move(500,0)\n",
    "        button.resize(140,100)\n",
    " \n",
    "        self.show()\n",
    " \n",
    " \n",
    "class PlotCanvas(FigureCanvas):\n",
    " \n",
    "    def __init__(self, parent=None, width=5, height=4, dpi=100):\n",
    "        fig = Figure(figsize=(width, height), dpi=dpi)\n",
    "        self.axes = fig.add_subplot(111)\n",
    " \n",
    "        FigureCanvas.__init__(self, fig)\n",
    "        self.setParent(parent)\n",
    " \n",
    "        FigureCanvas.setSizePolicy(self,\n",
    "                QSizePolicy.Expanding,\n",
    "                QSizePolicy.Expanding)\n",
    "        FigureCanvas.updateGeometry(self)\n",
    "        self.plot()\n",
    " \n",
    " \n",
    "    def plot(self):\n",
    "        data = [random.random() for i in range(25)]\n",
    "        ax = self.figure.add_subplot(111)\n",
    "        ax.plot(data, 'r-')\n",
    "        ax.set_title('PyQt Matplotlib Example')\n",
    "        self.draw()\n",
    " \n",
    "if __name__ == '__main__':\n",
    "    app = QApplication(sys.argv)\n",
    "    ex = App()\n",
    "    sys.exit(app.exec_())"
   ]
  },
  {
   "cell_type": "markdown",
   "metadata": {},
   "source": [
    "# Event-Handling with PyQT"
   ]
  },
  {
   "cell_type": "code",
   "execution_count": null,
   "metadata": {},
   "outputs": [
    {
     "name": "stdout",
     "output_type": "stream",
     "text": [
      "1\n",
      "2\n",
      "3\n",
      "5\n",
      "6\n",
      "7\n",
      "8\n",
      "9\n",
      "10\n",
      "11\n",
      "12\n",
      "13\n",
      "14\n",
      "15\n",
      "16\n",
      "17\n",
      "18\n",
      "20\n",
      "21\n",
      "22\n",
      "23\n",
      "24\n",
      "25\n",
      "26\n",
      "25\n",
      "24\n",
      "23\n",
      "22\n",
      "21\n",
      "20\n",
      "19\n"
     ]
    }
   ],
   "source": [
    "#!/usr/bin/python3\n",
    "# -*- coding: utf-8 -*-\n",
    "\n",
    "\"\"\"\n",
    "ZetCode PyQt5 tutorial \n",
    "\n",
    "In this example, we connect a signal\n",
    "of a QSlider to a slot of a QLCDNumber. \n",
    "\n",
    "Author: Jan Bodnar\n",
    "Website: zetcode.com \n",
    "Last edited: January 2017\n",
    "\"\"\"\n",
    "\n",
    "import sys\n",
    "from PyQt5.QtCore import Qt\n",
    "from PyQt5.QtWidgets import (QWidget, QLCDNumber, QSlider, \n",
    "    QVBoxLayout, QApplication)\n",
    "\n",
    "    \n",
    "class Foo:\n",
    "    def __call__(self):\n",
    "        print('called')\n",
    "\n",
    "foo_instance = Foo()\n",
    "\n",
    "def say_pos(x):\n",
    "    print(x)\n",
    "\n",
    "class Example(QWidget):\n",
    "    \n",
    "    def __init__(self):\n",
    "        super().__init__()\n",
    "        self.initUI()\n",
    "        \n",
    "        \n",
    "    def initUI(self):\n",
    "        app.aboutToQuit.connect(app.deleteLater)\n",
    "\n",
    "        \n",
    "        lcd = QLCDNumber(self)\n",
    "        sld = QSlider(Qt.Horizontal, self)\n",
    "\n",
    "        vbox = QVBoxLayout()\n",
    "        vbox.addWidget(lcd)\n",
    "        vbox.addWidget(sld)\n",
    "\n",
    "        self.setLayout(vbox)\n",
    "        #sld.valueChanged.connect(lcd.display)\n",
    "        #sld.valueChanged.connect(foo_instance)\n",
    "        #sld.valueChanged.connect(lambda p: print(p))\n",
    "        sld.valueChanged.connect(say_pos)\n",
    "    \n",
    "        self.setGeometry(300, 300, 250, 150)\n",
    "        self.setWindowTitle('Signal and slot')\n",
    "        self.show()\n",
    "        \n",
    "\n",
    "if __name__ == '__main__':\n",
    "    \n",
    "    app = QApplication(sys.argv)\n",
    "    ex = Example()\n",
    "    sys.exit(app.exec_())"
   ]
  },
  {
   "cell_type": "markdown",
   "metadata": {},
   "source": [
    "# Button Click"
   ]
  },
  {
   "cell_type": "code",
   "execution_count": 3,
   "metadata": {},
   "outputs": [
    {
     "name": "stdout",
     "output_type": "stream",
     "text": [
      "Right Button Clicked\n",
      "Right Button Clicked\n",
      "Right Button Clicked\n",
      "Right Button Clicked\n",
      "Right Button Clicked\n"
     ]
    },
    {
     "ename": "SystemExit",
     "evalue": "0",
     "output_type": "error",
     "traceback": [
      "An exception has occurred, use %tb to see the full traceback.\n",
      "\u001b[0;31mSystemExit\u001b[0m\u001b[0;31m:\u001b[0m 0\n"
     ]
    },
    {
     "name": "stderr",
     "output_type": "stream",
     "text": [
      "/home/raid1/gerstenberger/anaconda3/lib/python3.6/site-packages/IPython/core/interactiveshell.py:2971: UserWarning: To exit: use 'exit', 'quit', or Ctrl-D.\n",
      "  warn(\"To exit: use 'exit', 'quit', or Ctrl-D.\", stacklevel=1)\n"
     ]
    }
   ],
   "source": [
    "import sys\n",
    "from PyQt5.QtCore import Qt\n",
    "from PyQt5.QtWidgets import QApplication\n",
    "from PyQt5.QtWidgets import QWidget\n",
    "\n",
    "\n",
    "class MyWidget(QWidget):\n",
    "\n",
    "\n",
    "    def __init__(self):\n",
    "        super(MyWidget, self).__init__()\n",
    "\n",
    "    def mousePressEvent(self, QMouseEvent):\n",
    "        if QMouseEvent.button() == Qt.LeftButton:\n",
    "            print(\"Left Button Clicked\")\n",
    "        elif QMouseEvent.button() == Qt.RightButton:\n",
    "            #do what you want here\n",
    "            print(\"Right Button Clicked\")\n",
    "\n",
    "if __name__ == \"__main__\":\n",
    "\n",
    "    app = QApplication(sys.argv)\n",
    "    mw = MyWidget()\n",
    "    mw.show()\n",
    "    sys.exit(app.exec_())"
   ]
  },
  {
   "cell_type": "markdown",
   "metadata": {},
   "source": [
    "# Model-View-Controller with PyQt"
   ]
  },
  {
   "cell_type": "code",
   "execution_count": 1,
   "metadata": {},
   "outputs": [],
   "source": [
    "#controller.py\n",
    "def say_pos(x):\n",
    "    print(x)\n",
    "\n",
    "class time_controller():\n",
    "    def __init__(self, model):\n",
    "        print(\"Controller knows its model\")\n",
    "    def __call__(self, x):\n",
    "        print(\"The position in the video is \" + str(x))\n",
    "        #Tell video to jump to updated frame\n",
    "        #Tell Data fields to update to current position\n"
   ]
  },
  {
   "cell_type": "code",
   "execution_count": 2,
   "metadata": {},
   "outputs": [],
   "source": [
    "# View.py\n",
    "import sys\n",
    "from PyQt5.QtCore import Qt\n",
    "from PyQt5.QtWidgets import (QWidget, QLCDNumber, QSlider, QVBoxLayout, QGridLayout, QApplication)   \n",
    "from PyQt5.QtWidgets import QMainWindow, QMenu, QVBoxLayout, QSizePolicy, QMessageBox, QWidget, QPushButton\n",
    "\n",
    "from matplotlib.backends.backend_qt5agg import FigureCanvasQTAgg as FigureCanvas\n",
    "from matplotlib.figure import Figure\n",
    "import matplotlib.pyplot as plt\n",
    "import random\n",
    "\n",
    " \n",
    "class View(QWidget):\n",
    "\n",
    "    def __init__(self, model):\n",
    "        super().__init__()\n",
    "        self.left = 10\n",
    "        self.top = 10\n",
    "        self.width = 640\n",
    "        self.height = 480\n",
    "        self.model = model\n",
    "        self.initUI()\n",
    "        \n",
    "    def initUI(self):\n",
    "        app.aboutToQuit.connect(app.deleteLater)\n",
    "        \n",
    "        #Plot some kind of Data\n",
    "        datamodel1 = PlotCanvas(self, model[\"data\"], width=5, height=4)\n",
    "        datamodel1.move(0,0)\n",
    "        \n",
    "        sld = QSlider(Qt.Horizontal, self)\n",
    "        sld.setRange(0, 999)\n",
    "        \n",
    "        \n",
    "        # Specify to use a grid layout and add our Widgets for Video and Data\n",
    "        grid = QGridLayout()\n",
    "        \n",
    "        grid.addWidget(sld,1,0)\n",
    "        grid.addWidget(datamodel1,0,0)\n",
    "        self.setLayout(grid)\n",
    "        \n",
    "        # Use custom controllers\n",
    "        sld.valueChanged.connect(time_controller(self.model)) # Use our new time_controller (updates videoframe etc)\n",
    "    \n",
    "        self.setGeometry(600, 600, 640, 480)\n",
    "        self.setWindowTitle('Data Viewer')\n",
    "        self.show()\n",
    "        \n",
    "class PlotCanvas(FigureCanvas):\n",
    "\n",
    "            \n",
    " \n",
    "    def __init__(self, parent=None, data = None, width=5, height=4, dpi=100):\n",
    "        fig = Figure(figsize=(width, height), dpi=dpi)\n",
    "        self.axes = fig.add_subplot(111)\n",
    " \n",
    "        FigureCanvas.__init__(self, fig)\n",
    "        self.setParent(parent)\n",
    " \n",
    "        FigureCanvas.setSizePolicy(self,\n",
    "                QSizePolicy.Expanding,\n",
    "                QSizePolicy.Expanding)\n",
    "        FigureCanvas.updateGeometry(self)\n",
    "        self.plot(data.data)\n",
    " \n",
    " \n",
    "    def plot(self, data):\n",
    "        ax = self.figure.add_subplot(111)\n",
    "        ax.plot(data, 'r-')\n",
    "        ax.set_title('EEG F1')\n",
    "        self.draw()\n",
    "        "
   ]
  },
  {
   "cell_type": "code",
   "execution_count": 3,
   "metadata": {},
   "outputs": [],
   "source": [
    "#model\n",
    "class video_display:\n",
    "    total_frames = 999\n",
    "    def __init__(self, filepath):\n",
    "        #Load Video\n",
    "        #Set self.total_frames\n",
    "        print(\"\")\n",
    "\n",
    "    def set_current_video_frame(x):\n",
    "        print(\"The position in the video is \" + x)\n",
    "    def get_amount_of_frames():\n",
    "        return self.total_frames\n",
    "    \n",
    "class data_display:\n",
    "    def __init__(self, filepath):\n",
    "        #Load Data or processed Data\n",
    "        print(\"\")\n",
    "        self.data = [random.random() for i in range(25)] # FOR NOW SUBJECT TO BE CHANGED"
   ]
  },
  {
   "cell_type": "code",
   "execution_count": 4,
   "metadata": {},
   "outputs": [
    {
     "name": "stdout",
     "output_type": "stream",
     "text": [
      "\n",
      "\n"
     ]
    },
    {
     "name": "stderr",
     "output_type": "stream",
     "text": [
      "/home/raid1/gerstenberger/anaconda3/lib/python3.6/site-packages/matplotlib/cbook/deprecation.py:107: MatplotlibDeprecationWarning: Adding an axes using the same arguments as a previous axes currently reuses the earlier instance.  In a future version, a new instance will always be created and returned.  Meanwhile, this warning can be suppressed, and the future behavior ensured, by passing a unique label to each axes instance.\n",
      "  warnings.warn(message, mplDeprecation, stacklevel=1)\n"
     ]
    },
    {
     "name": "stdout",
     "output_type": "stream",
     "text": [
      "Controller knows its model\n",
      "Right Button Clicked\n",
      "Right Button Clicked\n",
      "Left Button Clicked\n",
      "Right Button Clicked\n",
      "Left Button Clicked\n",
      "Right Button Clicked\n",
      "Left Button Clicked\n",
      "Right Button Clicked\n"
     ]
    },
    {
     "ename": "SystemExit",
     "evalue": "0",
     "output_type": "error",
     "traceback": [
      "An exception has occurred, use %tb to see the full traceback.\n",
      "\u001b[0;31mSystemExit\u001b[0m\u001b[0;31m:\u001b[0m 0\n"
     ]
    },
    {
     "name": "stderr",
     "output_type": "stream",
     "text": [
      "/home/raid1/gerstenberger/anaconda3/lib/python3.6/site-packages/IPython/core/interactiveshell.py:2971: UserWarning: To exit: use 'exit', 'quit', or Ctrl-D.\n",
      "  warn(\"To exit: use 'exit', 'quit', or Ctrl-D.\", stacklevel=1)\n"
     ]
    }
   ],
   "source": [
    "#user.py\n",
    "if __name__ == '__main__':\n",
    "    model =  {\"videodisplay1\" : video_display(\"filepath\"), \n",
    "              \"data\": data_display(\"MadeupFilepath\") } #For now SUBJECT TO CHANGE\n",
    "    \n",
    "    app = QApplication(sys.argv)\n",
    "    ex = View(model)\n",
    "    sys.exit(app.exec_())"
   ]
  },
  {
   "cell_type": "markdown",
   "metadata": {},
   "source": [
    "# Trying to load .eeg files"
   ]
  },
  {
   "cell_type": "code",
   "execution_count": 40,
   "metadata": {},
   "outputs": [],
   "source": [
    "filename = \"/data/pt_01843/eegData/DualEEG_RPS_rawData/DualEEG_RPS_C_01.eeg\"\n",
    "#filename = \"/data/pt_01843/eegData/DualEEG_RPS_rawData/DualEEG_RPS_C_02.eeg\"\n"
   ]
  },
  {
   "cell_type": "code",
   "execution_count": 28,
   "metadata": {},
   "outputs": [
    {
     "name": "stdout",
     "output_type": "stream",
     "text": [
      "____________________________________________________________________________________________________\n",
      "xxxx"
     ]
    },
    {
     "ename": "KeyboardInterrupt",
     "evalue": "",
     "output_type": "error",
     "traceback": [
      "\u001b[0;31m---------------------------------------------------------------------------\u001b[0m",
      "\u001b[0;31mKeyboardInterrupt\u001b[0m                         Traceback (most recent call last)",
      "\u001b[0;32m<ipython-input-28-202cbb4d141b>\u001b[0m in \u001b[0;36m<module>\u001b[0;34m()\u001b[0m\n\u001b[1;32m     12\u001b[0m \u001b[0;32mfor\u001b[0m \u001b[0mpos_in_file\u001b[0m \u001b[0;32min\u001b[0m \u001b[0mrange\u001b[0m\u001b[0;34m(\u001b[0m\u001b[0;36m0\u001b[0m\u001b[0;34m,\u001b[0m\u001b[0mdata_size\u001b[0m\u001b[0;34m)\u001b[0m\u001b[0;34m:\u001b[0m\u001b[0;34m\u001b[0m\u001b[0m\n\u001b[1;32m     13\u001b[0m     \u001b[0;32mwith\u001b[0m \u001b[0mopen\u001b[0m\u001b[0;34m(\u001b[0m\u001b[0mfilename\u001b[0m\u001b[0;34m,\u001b[0m \u001b[0;34m\"rb\"\u001b[0m\u001b[0;34m)\u001b[0m \u001b[0;32mas\u001b[0m \u001b[0mf\u001b[0m\u001b[0;34m:\u001b[0m\u001b[0;34m\u001b[0m\u001b[0m\n\u001b[0;32m---> 14\u001b[0;31m         \u001b[0mdata\u001b[0m \u001b[0;34m[\u001b[0m\u001b[0mpos_in_file\u001b[0m\u001b[0;34m]\u001b[0m\u001b[0;34m=\u001b[0m\u001b[0mstruct\u001b[0m\u001b[0;34m.\u001b[0m\u001b[0munpack\u001b[0m\u001b[0;34m(\u001b[0m\u001b[0;34m'i'\u001b[0m\u001b[0;34m,\u001b[0m \u001b[0mf\u001b[0m\u001b[0;34m.\u001b[0m\u001b[0mread\u001b[0m\u001b[0;34m(\u001b[0m\u001b[0;36m4\u001b[0m\u001b[0;34m)\u001b[0m\u001b[0;34m)\u001b[0m\u001b[0;34m[\u001b[0m\u001b[0;36m0\u001b[0m\u001b[0;34m]\u001b[0m\u001b[0;34m\u001b[0m\u001b[0m\n\u001b[0m\u001b[1;32m     15\u001b[0m         \u001b[0mpos_in_file\u001b[0m \u001b[0;34m+=\u001b[0m \u001b[0;36m1\u001b[0m\u001b[0;34m\u001b[0m\u001b[0m\n\u001b[1;32m     16\u001b[0m         \u001b[0;32mif\u001b[0m\u001b[0;34m(\u001b[0m\u001b[0mpos_in_file\u001b[0m\u001b[0;34m%\u001b[0m\u001b[0;34m(\u001b[0m\u001b[0mdata_size\u001b[0m\u001b[0;34m//\u001b[0m\u001b[0;36m100\u001b[0m\u001b[0;34m)\u001b[0m\u001b[0;34m==\u001b[0m\u001b[0;36m0\u001b[0m\u001b[0;34m)\u001b[0m\u001b[0;34m:\u001b[0m\u001b[0;34m\u001b[0m\u001b[0m\n",
      "\u001b[0;31mKeyboardInterrupt\u001b[0m: "
     ]
    }
   ],
   "source": [
    "import struct\n",
    "import os\n",
    "import numpy as np"
   ]
  },
  {
   "cell_type": "code",
   "execution_count": null,
   "metadata": {},
   "outputs": [],
   "source": [
    "#Way too slow...\n",
    "data_size = os.path.getsize(filename)//2\n",
    "data = np.ndarray(data_size, dtype=\"int16\")#Datatype specified in Header\n",
    "\n",
    "for x in range(0,100):\n",
    "    print('_', end =\"\")\n",
    "print(\"\")    \n",
    "\n",
    "for pos_in_file in range(0,data_size):\n",
    "    with open(filename, \"rb\") as f:\n",
    "        data [pos_in_file]=struct.unpack('i', f.read(4))[0]\n",
    "        pos_in_file += 1\n",
    "        if(pos_in_file%(data_size//100)==0):\n",
    "            print('x', end = \"\")"
   ]
  },
  {
   "cell_type": "markdown",
   "metadata": {},
   "source": [
    "# Load multiplexed Data via Numpy"
   ]
  },
  {
   "cell_type": "code",
   "execution_count": 38,
   "metadata": {},
   "outputs": [],
   "source": [
    "import matplotlib.pyplot as plt"
   ]
  },
  {
   "cell_type": "code",
   "execution_count": 61,
   "metadata": {},
   "outputs": [],
   "source": [
    "#my_type = np.dtype([('Sample', int),('Channel', int)])\n",
    "n_channels = 64\n",
    "bytes_per_sample = 2 #Because int16\n",
    "\n",
    "my_type = np.dtype([(\"channel\"+str(x),np.int16) for x in range(0,n_channels)])"
   ]
  },
  {
   "cell_type": "code",
   "execution_count": 63,
   "metadata": {},
   "outputs": [],
   "source": [
    "byte_size = os.path.getsize(filename)\n",
    "\n",
    "nFrames =  byte_size // (bytes_per_sample * n_channels);\n",
    "data = np.fromfile(filename,dtype=my_type)"
   ]
  },
  {
   "cell_type": "code",
   "execution_count": 65,
   "metadata": {},
   "outputs": [
    {
     "data": {
      "text/plain": [
       "[<matplotlib.lines.Line2D at 0x7ff20241ee10>]"
      ]
     },
     "execution_count": 65,
     "metadata": {},
     "output_type": "execute_result"
    },
    {
     "data": {
      "image/png": "[encoded data removed]",
      "text/plain": [
       "<Figure size 432x288 with 1 Axes>"
      ]
     },
     "metadata": {},
     "output_type": "display_data"
    }
   ],
   "source": [
    "plt.plot(data[\"channel1\"])\n",
    "plt.plot(data[\"channel62\"])"
   ]
  },
  {
   "cell_type": "code",
   "execution_count": 67,
   "metadata": {},
   "outputs": [
    {
     "data": {
      "text/plain": [
       "369240"
      ]
     },
     "execution_count": 67,
     "metadata": {},
     "output_type": "execute_result"
    }
   ],
   "source": [
    "len(data[\"channel1\"])"
   ]
  },
  {
   "cell_type": "markdown",
   "metadata": {},
   "source": [
    "# Input file dialogue"
   ]
  },
  {
   "cell_type": "code",
   "execution_count": 1,
   "metadata": {},
   "outputs": [
    {
     "ename": "SystemExit",
     "evalue": "0",
     "output_type": "error",
     "traceback": [
      "An exception has occurred, use %tb to see the full traceback.\n",
      "\u001b[0;31mSystemExit\u001b[0m\u001b[0;31m:\u001b[0m 0\n"
     ]
    },
    {
     "name": "stderr",
     "output_type": "stream",
     "text": [
      "/home/raid1/gerstenberger/anaconda3/lib/python3.6/site-packages/IPython/core/interactiveshell.py:2971: UserWarning: To exit: use 'exit', 'quit', or Ctrl-D.\n",
      "  warn(\"To exit: use 'exit', 'quit', or Ctrl-D.\", stacklevel=1)\n"
     ]
    }
   ],
   "source": [
    "import sys\n",
    "from PyQt5.QtWidgets import QApplication, QWidget, QInputDialog, QLineEdit, QFileDialog\n",
    "from PyQt5.QtGui import QIcon\n",
    " \n",
    "class App(QWidget):\n",
    " \n",
    "    def __init__(self):\n",
    "        super().__init__()\n",
    "        self.title = 'PyQt5 file dialogs - pythonspot.com'\n",
    "        self.left = 10\n",
    "        self.top = 10\n",
    "        self.width = 640\n",
    "        self.height = 480\n",
    "        self.initUI()\n",
    " \n",
    "    def initUI(self):\n",
    "        self.setWindowTitle(self.title)\n",
    "        self.setGeometry(self.left, self.top, self.width, self.height)\n",
    " \n",
    "        self.openFileNameDialog()\n",
    "        self.openFileNamesDialog()\n",
    "        self.saveFileDialog()\n",
    " \n",
    "        self.show()\n",
    " \n",
    "    def openFileNameDialog(self):    \n",
    "        options = QFileDialog.Options()\n",
    "        options |= QFileDialog.DontUseNativeDialog\n",
    "        fileName, _ = QFileDialog.getOpenFileName(self,\"QFileDialog.getOpenFileName()\", \"\",\"All Files (*);;Python Files (*.py)\", options=options)\n",
    "        if fileName:\n",
    "            print(fileName)\n",
    " \n",
    "    def openFileNamesDialog(self):    \n",
    "        options = QFileDialog.Options()\n",
    "        options |= QFileDialog.DontUseNativeDialog\n",
    "        files, _ = QFileDialog.getOpenFileNames(self,\"QFileDialog.getOpenFileNames()\", \"\",\"All Files (*);;Python Files (*.py)\", options=options)\n",
    "        if files:\n",
    "            print(files)\n",
    " \n",
    "    def saveFileDialog(self):    \n",
    "        options = QFileDialog.Options()\n",
    "        options |= QFileDialog.DontUseNativeDialog\n",
    "        fileName, _ = QFileDialog.getSaveFileName(self,\"QFileDialog.getSaveFileName()\",\"\",\"All Files (*);;Text Files (*.txt)\", options=options)\n",
    "        if fileName:\n",
    "            print(fileName)\n",
    " \n",
    "if __name__ == '__main__':\n",
    "    app = QApplication(sys.argv)\n",
    "    ex = App()\n",
    "    sys.exit(app.exec_())"
   ]
  },
  {
   "cell_type": "code",
   "execution_count": null,
   "metadata": {},
   "outputs": [],
   "source": [
    "#Have inner class inherite from outer class\n",
    "class Outer():\n",
    "    name = \"filename\"\n",
    "\n",
    "    def __init__(self, name):\n",
    "        print(\"Outer init\")\n",
    "        if name is not None:\n",
    "            self.name = name\n",
    "            \n",
    "    def bla(self):\n",
    "        print(\"Works fine\")\n",
    "\n",
    "class Outer():\n",
    "    class Inner(Outer):\n",
    "        def inner_method(self):\n",
    "            self.bla()\n",
    "            self.name = 1\n",
    "            \n",
    "a = Outer.Inner(\"lala\") #data_display_controller(data_display)\n",
    "print(a.name)\n",
    "a.inner_method()\n",
    "a.name"
   ]
  },
  {
   "cell_type": "markdown",
   "metadata": {},
   "source": [
    "# GUI"
   ]
  },
  {
   "cell_type": "code",
   "execution_count": 1,
   "metadata": {},
   "outputs": [],
   "source": [
    "from PyQt5.QtWidgets import QWidget\n",
    "\n",
    "#controller.py\n",
    "\n",
    "class time_controller():\n",
    "    def __init__(self, model):\n",
    "        print(\"Controller knows its model\")\n",
    "    def __call__(self, x):\n",
    "        print(\"The position in the video is \" + str(x))\n",
    "        #Tell video to jump to updated frame\n",
    "        #Tell Data fields to update to current position\n",
    "\n",
    "class data_display_controller(QWidget):\n",
    "    def __init__(self, model):\n",
    "        super().__init__()\n",
    "        self.model = model\n",
    "        print(\"data_display_controller knows its model\")\n",
    "\n",
    "class data_display_controller(QWidget):\n",
    "        class load_file_dialogue(data_display_controller):\n",
    "            def __call__(self):\n",
    "                print(\"TODO: Not implemented yet\")\n",
    "                \n",
    "        class vertical_zoom():\n",
    "            def __call__(self, x):\n",
    "                print(\"Vertical zoom\")\n",
    "                \n",
    "class eeg_display_controller(data_display_controller): pass\n",
    "\n",
    "class eeg_display_controller(data_display_controller):\n",
    "    class file_dialogue(eeg_display_controller):\n",
    "        def __init__(self, model):\n",
    "            super().__init__()\n",
    "            self.model = model\n",
    "            print(\"eeg_display_controller knows its model\")\n",
    "            \n",
    "        def __call__(self):\n",
    "            self.open()\n",
    "\n",
    "        def open(self):\n",
    "            options = QFileDialog.Options()\n",
    "            options |= QFileDialog.DontUseNativeDialog\n",
    "            fileName, _ = QFileDialog.getOpenFileName(self,\"QFileDialog.getOpenFileName()\", \"\",\"All Files (*);;Python Files (*.py)\", options=options)\n",
    "            if fileName:\n",
    "                self.model.set_filepath(fileName)\n",
    "                self.model.load_eeg_file()\n"
   ]
  },
  {
   "cell_type": "code",
   "execution_count": 2,
   "metadata": {},
   "outputs": [],
   "source": [
    "# View.py\n",
    "import sys\n",
    "from PyQt5.QtCore import Qt\n",
    "from PyQt5.QtWidgets import (QWidget, QSlider, QSizePolicy, QGridLayout, QApplication)   \n",
    "from PyQt5.QtWidgets import QInputDialog, QLineEdit, QFileDialog\n",
    "from PyQt5.QtGui import QIcon\n",
    "\n",
    "from matplotlib.backends.backend_qt5agg import FigureCanvasQTAgg as FigureCanvas\n",
    "from matplotlib.figure import Figure\n",
    "import matplotlib.pyplot as plt\n",
    "import random\n",
    "\n",
    " \n",
    "class View(QWidget):\n",
    "\n",
    "    def __init__(self, model):\n",
    "        super().__init__()\n",
    "        self.model = model\n",
    "        self.initUI()\n",
    "        \n",
    "    def initUI(self):\n",
    "        app.aboutToQuit.connect(app.deleteLater)\n",
    "                \n",
    "        sld = QSlider(Qt.Horizontal, self)\n",
    "        sld.setRange(0, 999)\n",
    "        \n",
    "        \n",
    "        # Specify to use a grid layout and add our Widgets for Video and Data\n",
    "        grid = QGridLayout()\n",
    "        \n",
    "        grid.addWidget(sld,1,0)\n",
    "        self.draw_data(grid) # Add data fields\n",
    "        self.setLayout(grid)\n",
    "        \n",
    "        # Use custom controllers\n",
    "        sld.valueChanged.connect(time_controller(self.model)) # Use our new time_controller (updates videoframe etc)\n",
    "    \n",
    "        self.setGeometry(600, 600, 640, 480)\n",
    "        self.setWindowTitle('Data Viewer')\n",
    "        self.show()\n",
    "        \n",
    "    def draw_data(self, grid):\n",
    "        #Plot some EEG Data\n",
    "        datamodel0 = PlotCanvas(self, model[\"eeg0\"], \n",
    "                                eeg_display_controller.file_dialogue(self.model[\"eeg0\"]), width=5, height=4)\n",
    "        datamodel1 = PlotCanvas(self, model[\"eeg1\"], \n",
    "                                eeg_display_controller.file_dialogue(self.model[\"eeg1\"]), width=5, height=4)\n",
    "        datamodel2 = PlotCanvas(self, model[\"eeg2\"], \n",
    "                                eeg_display_controller.file_dialogue(self.model[\"eeg2\"]), width=5, height=4)\n",
    "        \n",
    "        #Add them to the grid\n",
    "        grid.addWidget(datamodel0,0,0)\n",
    "        grid.addWidget(datamodel1,2,0)\n",
    "        grid.addWidget(datamodel2,3,0)\n",
    "        \n",
    "        \n",
    "class PlotCanvas(FigureCanvas):\n",
    "    def mousePressEvent(self, QMouseEvent):\n",
    "        if QMouseEvent.button() == Qt.RightButton:\n",
    "            eeg_display_controller.file_dialogue.open(self.controller)\n",
    "\n",
    "    \"\"\"    \n",
    "    def paintEvent(self, event):\n",
    "        fig = Figure(figsize=(5, 4), dpi=100)\n",
    "        self.axes = fig.add_subplot(111)\n",
    " \n",
    "        FigureCanvas.__init__(self, fig)\n",
    " \n",
    "        FigureCanvas.setSizePolicy(self,\n",
    "                QSizePolicy.Expanding,\n",
    "                QSizePolicy.Expanding)\n",
    "        FigureCanvas.updateGeometry(self)\n",
    "        \n",
    "        self.model.plot_figure(fig)\n",
    "\n",
    "        self.draw()\"\"\"\n",
    "    \n",
    "    def __init__(self, parent=None, model = None, controller = None, width=5, height=4, dpi=100):\n",
    "        self.controller = controller\n",
    "        self.model = model\n",
    "        \n",
    "        fig = Figure(figsize=(width, height), dpi=dpi)\n",
    "        self.axes = fig.add_subplot(111)\n",
    " \n",
    "        FigureCanvas.__init__(self, fig)\n",
    "        self.setParent(parent)\n",
    " \n",
    "        FigureCanvas.setSizePolicy(self,\n",
    "                QSizePolicy.Expanding,\n",
    "                QSizePolicy.Expanding)\n",
    "        FigureCanvas.updateGeometry(self)\n",
    "        \n",
    "        model.plot_figure(fig)\n",
    "        self.fig = fig\n",
    "\n",
    "        self.draw()"
   ]
  },
  {
   "cell_type": "code",
   "execution_count": 3,
   "metadata": {},
   "outputs": [],
   "source": [
    "#model\n",
    "\n",
    "import numpy as np\n",
    "import os\n",
    "import matplotlib.pyplot as plt\n",
    "from PyQt5.QtCore import pyqtSignal, QThread\n",
    "\n",
    "class video_display:\n",
    "    total_frames = 999\n",
    "    def __init__(self, filepath):\n",
    "        #Load Video\n",
    "        #Set self.total_frames\n",
    "        print(\"\")\n",
    "\n",
    "    def set_current_video_frame(x):\n",
    "        print(\"The position in the video is \" + x)\n",
    "    def get_amount_of_frames():\n",
    "        return self.total_frames\n",
    "    \n",
    "class eeg_display(QWidget):\n",
    "    data = None\n",
    "    filepath = None\n",
    "    headline = None\n",
    "    channel = None\n",
    "    updated = pyqtSignal()\n",
    "    \n",
    "    def __init__(self, filepath):\n",
    "        QWidget.__init__(self, parent)\n",
    "\n",
    "        #Load Data or processed Data\n",
    "        if(filepath!=None):\n",
    "            self.filepath = filepath\n",
    "        self.data = [random.random() for i in range(25)] # FOR NOW SUBJECT TO BE CHANGED\n",
    "    \n",
    "\n",
    "    def set_filepath(self, filepath):\n",
    "        self.filepath = filepath\n",
    "        \n",
    "    def plot_figure(self, figure):\n",
    "        ax = figure.add_subplot(111)\n",
    "        ax.plot(self.data, 'r-')\n",
    "        ax.set_title(self.headline)\n",
    "    \n",
    "    def set_title(self, headline):\n",
    "        self.headline = headline\n",
    "\n",
    "\n",
    "    def __init__(self, filepath = None, channel = 0):\n",
    "        #Load Data or processed Data\n",
    "        if(filepath!=None):\n",
    "            self.channel = channel\n",
    "            self.set_filepath(filepath)\n",
    "            self.load_eeg_file()\n",
    "            self.set_title(os.path.basename(filepath) + \"    Channel \" + str(self.channel)  )\n",
    "                    \n",
    "    def load_eeg_file(self):\n",
    "        if(self.filepath==None):\n",
    "            print(\"No filepath set\")\n",
    "            return None\n",
    "        \n",
    "        n_channels = 64\n",
    "        bytes_per_sample = 2 #Because int16\n",
    "\n",
    "        my_type = np.dtype([(\"channel\"+str(x),np.int16) for x in range(0,n_channels)])\n",
    "        byte_size = os.path.getsize(self.filepath)\n",
    "\n",
    "        nFrames =  byte_size // (bytes_per_sample * n_channels);\n",
    "        self.data = np.fromfile(self.filepath,dtype=my_type)[\"channel\"+str(self.channel)]\n",
    "        \n",
    "        #self.update()\n",
    "        #self.updated.emit()\n"
   ]
  },
  {
   "cell_type": "code",
   "execution_count": 4,
   "metadata": {
    "scrolled": true
   },
   "outputs": [
    {
     "name": "stdout",
     "output_type": "stream",
     "text": [
      "\n",
      "eeg_display_controller knows its model\n"
     ]
    },
    {
     "name": "stderr",
     "output_type": "stream",
     "text": [
      "/home/raid1/gerstenberger/anaconda3/lib/python3.6/site-packages/matplotlib/cbook/deprecation.py:107: MatplotlibDeprecationWarning: Adding an axes using the same arguments as a previous axes currently reuses the earlier instance.  In a future version, a new instance will always be created and returned.  Meanwhile, this warning can be suppressed, and the future behavior ensured, by passing a unique label to each axes instance.\n",
      "  warnings.warn(message, mplDeprecation, stacklevel=1)\n"
     ]
    },
    {
     "name": "stdout",
     "output_type": "stream",
     "text": [
      "eeg_display_controller knows its model\n",
      "eeg_display_controller knows its model\n",
      "Controller knows its model\n",
      "The position in the video is 5\n",
      "The position in the video is 8\n",
      "The position in the video is 17\n",
      "The position in the video is 36\n",
      "The position in the video is 58\n",
      "The position in the video is 81\n",
      "The position in the video is 106\n",
      "The position in the video is 131\n",
      "The position in the video is 147\n",
      "The position in the video is 159\n",
      "The position in the video is 171\n",
      "The position in the video is 172\n",
      "The position in the video is 174\n",
      "The position in the video is 177\n",
      "The position in the video is 179\n",
      "The position in the video is 182\n",
      "The position in the video is 187\n",
      "The position in the video is 189\n",
      "The position in the video is 197\n",
      "The position in the video is 202\n",
      "The position in the video is 209\n",
      "The position in the video is 219\n",
      "The position in the video is 234\n",
      "The position in the video is 252\n",
      "The position in the video is 270\n",
      "The position in the video is 287\n",
      "The position in the video is 302\n",
      "The position in the video is 316\n",
      "The position in the video is 326\n",
      "The position in the video is 336\n",
      "The position in the video is 343\n",
      "The position in the video is 353\n",
      "The position in the video is 366\n",
      "The position in the video is 376\n",
      "The position in the video is 379\n",
      "The position in the video is 381\n",
      "The position in the video is 384\n"
     ]
    },
    {
     "ename": "SystemExit",
     "evalue": "0",
     "output_type": "error",
     "traceback": [
      "An exception has occurred, use %tb to see the full traceback.\n",
      "\u001b[0;31mSystemExit\u001b[0m\u001b[0;31m:\u001b[0m 0\n"
     ]
    },
    {
     "name": "stderr",
     "output_type": "stream",
     "text": [
      "/home/raid1/gerstenberger/anaconda3/lib/python3.6/site-packages/IPython/core/interactiveshell.py:2971: UserWarning: To exit: use 'exit', 'quit', or Ctrl-D.\n",
      "  warn(\"To exit: use 'exit', 'quit', or Ctrl-D.\", stacklevel=1)\n"
     ]
    }
   ],
   "source": [
    "#user.py\n",
    "if __name__ == '__main__':\n",
    "    model =  {\"videodisplay1\" : video_display(\"filepath\"),\n",
    "              \"eeg0\": eeg_display(\"/data/pt_01843/eegData/DualEEG_RPS_rawData/DualEEG_RPS_C_02.eeg\",0),\n",
    "              \"eeg1\": eeg_display(\"/data/pt_01843/eegData/DualEEG_RPS_rawData/DualEEG_RPS_C_02.eeg\",1), \n",
    "              \"eeg2\": eeg_display(\"/data/pt_01843/eegData/DualEEG_RPS_rawData/DualEEG_RPS_C_02.eeg\",2) } #For now SUBJECT TO CHANGE\n",
    "    \n",
    "    app = QApplication(sys.argv)\n",
    "    ex = View(model)\n",
    "    sys.exit(app.exec_())"
   ]
  },
  {
   "cell_type": "markdown",
   "metadata": {},
   "source": [
    "# Threads and signals"
   ]
  },
  {
   "cell_type": "code",
   "execution_count": 5,
   "metadata": {},
   "outputs": [
    {
     "ename": "SystemExit",
     "evalue": "0",
     "output_type": "error",
     "traceback": [
      "An exception has occurred, use %tb to see the full traceback.\n",
      "\u001b[0;31mSystemExit\u001b[0m\u001b[0;31m:\u001b[0m 0\n"
     ]
    },
    {
     "name": "stderr",
     "output_type": "stream",
     "text": [
      "/home/raid1/gerstenberger/anaconda3/lib/python3.6/site-packages/IPython/core/interactiveshell.py:2971: UserWarning: To exit: use 'exit', 'quit', or Ctrl-D.\n",
      "  warn(\"To exit: use 'exit', 'quit', or Ctrl-D.\", stacklevel=1)\n"
     ]
    }
   ],
   "source": [
    "from PyQt5.QtCore import pyqtSignal, QThread\n",
    "from PyQt5.QtWidgets import (QWidget, QSlider, QSizePolicy, QGridLayout, QApplication)   \n",
    "import sys\n",
    "\n",
    "class Main(QWidget):\n",
    "\n",
    "    def __init__(self):\n",
    "        super().__init__()\n",
    "\n",
    "    def StartButtonEvent(self):\n",
    "        self.test = ExecuteThread()\n",
    "        self.test.start()\n",
    "        self.test.finished.connect(thread_finished)\n",
    "        self.test.my_signal.connect(my_event)\n",
    "\n",
    "    def thread_finished(self):\n",
    "        # gets executed if thread finished\n",
    "        pass\n",
    "\n",
    "    def my_event(self):\n",
    "        # gets executed on my_signal \n",
    "        pass\n",
    "\n",
    "\n",
    "class ExecuteThread(QThread):\n",
    "    my_signal = pyqtSignal()\n",
    "\n",
    "    def run(self):\n",
    "        # do something here\n",
    "        self.my_signal.emit()\n",
    "        pass\n",
    "    \n",
    "    \n",
    "if __name__ == '__main__':\n",
    "    import sys\n",
    "    app = QApplication(sys.argv)\n",
    "    m = Main()\n",
    "    m.show()\n",
    "    sys.exit(app.exec_())"
   ]
  },
  {
   "cell_type": "markdown",
   "metadata": {},
   "source": [
    "# Signals alone"
   ]
  },
  {
   "cell_type": "code",
   "execution_count": null,
   "metadata": {},
   "outputs": [],
   "source": [
    "import sys\n",
    "from PyQt5.QtCore import pyqtSignal, QSize, Qt\n",
    "from PyQt5.QtGui import *\n",
    "from PyQt5.QtWidgets import (QWidget, QSlider, QSizePolicy, QGridLayout, QApplication, QLabel, QVBoxLayout)   \n",
    "\n",
    "\n",
    "class MyWidget(QWidget):\n",
    "\n",
    "    clicked = pyqtSignal()\n",
    "    keyPressed = pyqtSignal()\n",
    "    \n",
    "    def __init__(self, parent = None):\n",
    "    \n",
    "        QWidget.__init__(self, parent)\n",
    "        self.color = QColor(0, 0, 0)\n",
    "    \n",
    "    def paintEvent(self, event):\n",
    "    \n",
    "        painter = QPainter()\n",
    "        painter.begin(self)\n",
    "        painter.fillRect(event.rect(), QBrush(self.color))\n",
    "        painter.end()\n",
    "    \n",
    "    def keyPressEvent(self, event):\n",
    "    \n",
    "        self.keyPressed.emit(event.text())\n",
    "        event.accept()\n",
    "    \n",
    "    def mousePressEvent(self, event):\n",
    "    \n",
    "        self.setFocus(Qt.OtherFocusReason)\n",
    "        event.accept()\n",
    "    \n",
    "    def mouseReleaseEvent(self, event):\n",
    "    \n",
    "        if event.button() == Qt.LeftButton:\n",
    "        \n",
    "            self.color = QColor(self.color.green(), self.color.blue(),\n",
    "                                127 - self.color.red())\n",
    "            self.update()\n",
    "            self.clicked.emit()\n",
    "            event.accept()\n",
    "    \n",
    "    def sizeHint(self):\n",
    "    \n",
    "        return QSize(100, 100)\n",
    "\n",
    "\n",
    "if __name__ == \"__main__\":\n",
    "\n",
    "    app = QApplication(sys.argv)\n",
    "    window = QWidget()\n",
    "    \n",
    "    mywidget = MyWidget()\n",
    "    label = QLabel()\n",
    "    \n",
    "    mywidget.clicked.connect(label.clear)\n",
    "    mywidget.keyPressed.connect(label.setText)\n",
    "    \n",
    "    layout = QVBoxLayout()\n",
    "    layout.addWidget(mywidget)\n",
    "    layout.addWidget(label)\n",
    "    window.setLayout(layout)\n",
    "    \n",
    "    window.show()\n",
    "    sys.exit(app.exec_())"
   ]
  },
  {
   "cell_type": "code",
   "execution_count": null,
   "metadata": {},
   "outputs": [],
   "source": [
    "import sys\n",
    "from PyQt5.QtCore import pyqtSignal, QSize, Qt\n",
    "from PyQt5.QtGui import *\n",
    "from PyQt5.QtWidgets import (QWidget, QSlider, QSizePolicy, QGridLayout, QApplication, QLabel, QVBoxLayout)   \n",
    "\n",
    "\n",
    "class MyWidget(QWidget):\n",
    "\n",
    "    clicked = pyqtSignal()\n",
    "    \n",
    "    def __init__(self, parent = None):\n",
    "    \n",
    "        QWidget.__init__(self, parent)\n",
    "        self.color = 1\n",
    "        \n",
    "    def initUI(self):\n",
    "        app.aboutToQuit.connect(app.deleteLater)\n",
    "        self.setGeometry(600, 600, 640, 480)\n",
    "        self.setWindowTitle('Data Viewer')\n",
    "        self.show()\n",
    "\n",
    "    \n",
    "    def paintEvent(self, event):\n",
    "        print(\"Paint event\" + str(self.color))\n",
    "    \n",
    "    def mouseReleaseEvent(self, event):\n",
    "        self.color +=1\n",
    "        self.update()\n",
    "        self.clicked.emit()\n",
    "        event.accept()\n",
    "    \n",
    "\n",
    "\n",
    "if __name__ == \"__main__\":\n",
    "    \n",
    "    app = QApplication(sys.argv)\n",
    "    widget = MyWidget()\n",
    "    \n",
    "    widget = MyWidget()\n",
    "    label = QLabel()\n",
    "    \n",
    "    widget.clicked.connect(label.clear)\n",
    "    \n",
    "    layout = QVBoxLayout()\n",
    "    layout.addWidget(widget)\n",
    "    layout.addWidget(label)\n",
    "    widget.setLayout(layout)\n",
    "    \n",
    "    widget.show()\n",
    "    sys.exit(app.exec_())"
   ]
  },
  {
   "cell_type": "code",
   "execution_count": null,
   "metadata": {},
   "outputs": [],
   "source": []
  }
 ],
 "metadata": {
  "kernelspec": {
   "display_name": "Python 3",
   "language": "python",
   "name": "python3"
  },
  "language_info": {
   "codemirror_mode": {
    "name": "ipython",
    "version": 3
   },
   "file_extension": ".py",
   "mimetype": "text/x-python",
   "name": "python",
   "nbconvert_exporter": "python",
   "pygments_lexer": "ipython3",
   "version": "3.6.5"
  }
 },
 "nbformat": 4,
 "nbformat_minor": 2
}
